{
 "cells": [
  {
   "cell_type": "code",
   "execution_count": 1,
   "id": "c813de72",
   "metadata": {},
   "outputs": [
    {
     "data": {
      "text/plain": [
       "True"
      ]
     },
     "execution_count": 1,
     "metadata": {},
     "output_type": "execute_result"
    }
   ],
   "source": [
    "import pandas as pd\n",
    "from langchain_google_genai import ChatGoogleGenerativeAI\n",
    "from dotenv import load_dotenv\n",
    "import os\n",
    "load_dotenv()"
   ]
  },
  {
   "cell_type": "code",
   "execution_count": null,
   "id": "35977a56",
   "metadata": {},
   "outputs": [],
   "source": [
    "def cleanTextLLM(texto):\n",
    "  return texto.replace(\"'\",\"\").replace(\"\\n\", \"\").replace(\"`\", \"\").replace(\"json\", \"\").replace(\"JSON\", \"\").replace(\"”\",'\"')"
   ]
  },
  {
   "cell_type": "code",
   "execution_count": null,
   "id": "59ed0535",
   "metadata": {},
   "outputs": [],
   "source": [
    "prompt = '''\n",
    "Dado que eres un experto en literatura y creación de historias, quiero que crees una historia, para crearla debes  tener en cuenta las siguientes reglas para crear una buena historia:\n",
    "1. Usa el genero que se te indique en los requerimientos, debes ceñirte muy bien a las características de dicho genero para crear la historia, es decir, los cuentos se caracterizan por tener introducción, nudo y desenlace, por lo que debes estructurar la historia de la manera correcta, si el género no es especificado, debes tener en cuenta los demás requerimientos para escoger un género con el fin de crear una historia interesante, puedes tener en cuenta aspectos como ambientación, personajes, sentimiento deseado a transmitir, etc.\n",
    "2. Ten presente la extensión que se pide para crear la historia, si esta no es especificada, crea la historia con un rango de 300 a 800 palabras.\n",
    "3. Asegúrate de mantener coherencia narrativa y estructural entre los hechos de la historia, conversaciones, personajes y demás.\n",
    "4. Debes tener en cuenta los personajes que se piden en la historia, recuerda crearlos con respecto a su personalidad, cualidadades y caracteristicas establecidas desde el inicio, estas no deben cambiar a no ser de que la historia lo requiera, por ejemplo, en caso de que un personaje requiera un desarrollo o un cambio debido a los hechos ocurridos. si  no se especifican los personajes o parte de sus caracteristicas, crea personajes coherentes con los demás aspectos de la historia, adicionalmente asegúrate de crear conversaciones coherentes con la historia, características y personalidades de los personajes.\n",
    "5. Con respecto al escenario, comienza a generar la historia a partir del escenario pedido, en caso de no ser pedido usa el escenario que mejor se acomode a la historia.\n",
    "6. Ten en cuenta los elementos de la trama pedidos como: Tipo de conflicto, obstáculos, estilo de resolución, ya que esto es importante para que estructures la historia, especialmente con la extensión de esta para que se puedan incluir y desarrollarse todos los elementos de la manera correcta.\n",
    "7. Toma en cuenta el tono y el sentimiento que se quiere conseguir con la historia, es decir, si  se pide que la historia tenga tono humorístico, dramático o satírico, debes incluirlo en la historia al igual que el sentimiento que se quiere expresar.\n",
    "Solo responde con el título y la historia creada, en caso de que se pida una conclusión o moraleja también puedes darla, solo danos el texto plano sin caracteres extraños como para especificar negritas tipo (** **), dado esto genera un JSON con los siguientes campos {\"titulo\", \"historia\"}.\n",
    "\n",
    "los requerimientos para la historia son los siguientes:\n",
    "'''\n",
    "\n",
    "prompt_usuario = f\"\"\"\n",
    "Quiero que crees un cuento corto al estilo de los hermanos grimm, donde existe un arbol mágico que concede deseos, pero con un giro oscuro. El cuento debe tener una moraleja al final y los personajes deben ser un niño curioso, un anciano sabio y un villano astuto. La historia debe desarrollarse en un bosque encantado durante la época medieval.\n",
    "\"\"\"\n",
    "\n",
    "total_prompt = prompt + prompt_usuario"
   ]
  },
  {
   "cell_type": "code",
   "execution_count": 37,
   "id": "276ced2a",
   "metadata": {},
   "outputs": [
    {
     "data": {
      "text/plain": [
       "AIMessage(content='```json\\n{\\n  \"titulo\": \"El Árbol de los Anhelos Retorcidos\",\\n  \"historia\": \"En la espesura de un bosque antiguo, donde la luz del sol luchaba por penetrar el dosel de hojas entrelazadas, se alzaba un árbol singular. Sus ramas, retorcidas como dedos huesudos, ostentaban frutos dorados que brillaban con una luz inquietante. Era el Árbol de los Anhelos, se decía, capaz de conceder cualquier deseo a quien lo invocara con sinceridad… o astucia.\\\\n\\\\nUn día, un niño llamado Elara, impulsado por una curiosidad insaciable, se adentró en el bosque prohibido. Había escuchado las leyendas del árbol, pero su corazón inocente no albergaba temor, solo anhelo por aventura. Tras horas de búsqueda, lo encontró. Elara se maravilló ante su imponente presencia, y con voz temblorosa, susurró su deseo: \\\\\"Quisiera tener siempre a mi abuela conmigo\\\\\".\\\\n\\\\nDe repente, un anciano sabio, con barba blanca como la nieve y ojos llenos de conocimiento, apareció entre las sombras. Le advirtió con voz grave: \\\\\"El Árbol concede deseos, sí, pero cada deseo tiene un precio. La magia oscura siempre busca un equilibrio. Piensa bien lo que pides, Elara, pues las consecuencias pueden ser terribles\\\\\".\\\\n\\\\nElara, aunque asustado, no se retractó. Su amor por su abuela era más fuerte que cualquier temor. El árbol brilló intensamente, y una suave brisa recorrió el bosque. Elara corrió a su casa, donde encontró a su abuela más joven y llena de energía que nunca, pero con una mirada vacía y una obediencia servil hacia él, como una marioneta sin voluntad propia.\\\\n\\\\nLa felicidad de Elara duró poco. Un villano astuto, llamado Lord Valerius, conocedor del poder del árbol, llegó al pueblo. Viendo la oportunidad de obtener poder ilimitado, engañó a Elara. Prometió que podía revertir el efecto secundario del deseo, pero a cambio, Elara debía pedir al árbol que le concediera a Valerius la juventud eterna.\\\\n\\\\nElara, arrepentido y desesperado por liberar a su abuela, accedió. Valerius obtuvo su juventud, pero al hacerlo, el bosque comenzó a marchitarse y el pueblo se sumió en una oscuridad perpetua. El Árbol de los Anhelos, alimentado por la ambición y la manipulación, se había corrompido, extendiendo su sombra sobre la tierra.\\\\n\\\\nElara, con el corazón roto, comprendió el terrible error que había cometido. Buscó al anciano sabio, quien le reveló la única forma de deshacer el maleficio: debía ofrecer al árbol lo más preciado que poseía, un sacrificio puro y desinteresado. Elara, sin dudarlo, se ofreció a sí mismo. Con el último rayo de sol, Elara se fundió con el árbol, liberando a su abuela de su control y restaurando la luz al bosque, pero a un costo muy alto.\",\\n  \"moraleja\": \"Los deseos egoístas y la búsqueda de atajos mágicos siempre tienen consecuencias inesperadas y dolorosas. El verdadero valor reside en la honestidad, la prudencia y la disposición al sacrificio por el bien común.\",\\n  \"conclusión\": null\\n}\\n```', additional_kwargs={}, response_metadata={'prompt_feedback': {'block_reason': 0, 'safety_ratings': []}, 'finish_reason': 'STOP', 'model_name': 'gemini-2.0-flash', 'safety_ratings': []}, id='run--4bb12a21-6923-4a43-b1e0-8472464297e3-0', usage_metadata={'input_tokens': 603, 'output_tokens': 729, 'total_tokens': 1332, 'input_token_details': {'cache_read': 0}})"
      ]
     },
     "execution_count": 37,
     "metadata": {},
     "output_type": "execute_result"
    }
   ],
   "source": [
    "llm = ChatGoogleGenerativeAI(model=\"gemini-2.0-flash\", api_key=os.getenv(\"LLM_KEY\"), temperature=0.8)\n",
    "output = llm.invoke(total_prompt)\n",
    "output"
   ]
  },
  {
   "cell_type": "code",
   "execution_count": 38,
   "id": "c8fc9cc9",
   "metadata": {},
   "outputs": [
    {
     "name": "stdout",
     "output_type": "stream",
     "text": [
      "{  \"titulo\": \"El Árbol de los Anhelos Retorcidos\",  \"historia\": \"En la espesura de un bosque antiguo, donde la luz del sol luchaba por penetrar el dosel de hojas entrelazadas, se alzaba un árbol singular. Sus ramas, retorcidas como dedos huesudos, ostentaban frutos dorados que brillaban con una luz inquietante. Era el Árbol de los Anhelos, se decía, capaz de conceder cualquier deseo a quien lo invocara con sinceridad… o astucia.\\n\\nUn día, un niño llamado Elara, impulsado por una curiosidad insaciable, se adentró en el bosque prohibido. Había escuchado las leyendas del árbol, pero su corazón inocente no albergaba temor, solo anhelo por aventura. Tras horas de búsqueda, lo encontró. Elara se maravilló ante su imponente presencia, y con voz temblorosa, susurró su deseo: \\\"Quisiera tener siempre a mi abuela conmigo\\\".\\n\\nDe repente, un anciano sabio, con barba blanca como la nieve y ojos llenos de conocimiento, apareció entre las sombras. Le advirtió con voz grave: \\\"El Árbol concede deseos, sí, pero cada deseo tiene un precio. La magia oscura siempre busca un equilibrio. Piensa bien lo que pides, Elara, pues las consecuencias pueden ser terribles\\\".\\n\\nElara, aunque asustado, no se retractó. Su amor por su abuela era más fuerte que cualquier temor. El árbol brilló intensamente, y una suave brisa recorrió el bosque. Elara corrió a su casa, donde encontró a su abuela más joven y llena de energía que nunca, pero con una mirada vacía y una obediencia servil hacia él, como una marioneta sin voluntad propia.\\n\\nLa felicidad de Elara duró poco. Un villano astuto, llamado Lord Valerius, conocedor del poder del árbol, llegó al pueblo. Viendo la oportunidad de obtener poder ilimitado, engañó a Elara. Prometió que podía revertir el efecto secundario del deseo, pero a cambio, Elara debía pedir al árbol que le concediera a Valerius la juventud eterna.\\n\\nElara, arrepentido y desesperado por liberar a su abuela, accedió. Valerius obtuvo su juventud, pero al hacerlo, el bosque comenzó a marchitarse y el pueblo se sumió en una oscuridad perpetua. El Árbol de los Anhelos, alimentado por la ambición y la manipulación, se había corrompido, extendiendo su sombra sobre la tierra.\\n\\nElara, con el corazón roto, comprendió el terrible error que había cometido. Buscó al anciano sabio, quien le reveló la única forma de deshacer el maleficio: debía ofrecer al árbol lo más preciado que poseía, un sacrificio puro y desinteresado. Elara, sin dudarlo, se ofreció a sí mismo. Con el último rayo de sol, Elara se fundió con el árbol, liberando a su abuela de su control y restaurando la luz al bosque, pero a un costo muy alto.\",  \"moraleja\": \"Los deseos egoístas y la búsqueda de atajos mágicos siempre tienen consecuencias inesperadas y dolorosas. El verdadero valor reside en la honestidad, la prudencia y la disposición al sacrificio por el bien común.\",  \"conclusión\": null}\n"
     ]
    }
   ],
   "source": [
    "clean_output = cleanTextLLM(str(output.content))\n",
    "print(clean_output)"
   ]
  },
  {
   "cell_type": "code",
   "execution_count": 28,
   "id": "2e5e9397",
   "metadata": {},
   "outputs": [
    {
     "name": "stderr",
     "output_type": "stream",
     "text": [
      "C:\\Users\\ABRAHAM\\AppData\\Local\\Temp\\ipykernel_26968\\2585683859.py:1: FutureWarning: Passing literal json to 'read_json' is deprecated and will be removed in a future version. To read from a literal string, wrap it in a 'StringIO' object.\n",
      "  dfLLM_Texto = pd.read_json(\"[\" + clean_output + \"]\")\n"
     ]
    },
    {
     "data": {
      "text/html": [
       "<div>\n",
       "<style scoped>\n",
       "    .dataframe tbody tr th:only-of-type {\n",
       "        vertical-align: middle;\n",
       "    }\n",
       "\n",
       "    .dataframe tbody tr th {\n",
       "        vertical-align: top;\n",
       "    }\n",
       "\n",
       "    .dataframe thead th {\n",
       "        text-align: right;\n",
       "    }\n",
       "</style>\n",
       "<table border=\"1\" class=\"dataframe\">\n",
       "  <thead>\n",
       "    <tr style=\"text-align: right;\">\n",
       "      <th></th>\n",
       "      <th>titulo</th>\n",
       "      <th>historia</th>\n",
       "      <th>moraleja</th>\n",
       "      <th>conclusion</th>\n",
       "    </tr>\n",
       "  </thead>\n",
       "  <tbody>\n",
       "    <tr>\n",
       "      <th>0</th>\n",
       "      <td>El Árbol de las Sombras</td>\n",
       "      <td>En lo profundo de un bosque tan antiguo que su...</td>\n",
       "      <td>Los verdaderos tesoros no se encuentran en los...</td>\n",
       "      <td>NaN</td>\n",
       "    </tr>\n",
       "  </tbody>\n",
       "</table>\n",
       "</div>"
      ],
      "text/plain": [
       "                    titulo                                           historia  \\\n",
       "0  El Árbol de las Sombras  En lo profundo de un bosque tan antiguo que su...   \n",
       "\n",
       "                                            moraleja  conclusion  \n",
       "0  Los verdaderos tesoros no se encuentran en los...         NaN  "
      ]
     },
     "execution_count": 28,
     "metadata": {},
     "output_type": "execute_result"
    }
   ],
   "source": [
    "dfLLM_Texto = pd.read_json(\"[\" + clean_output + \"]\")\n",
    "dfLLM_Texto"
   ]
  },
  {
   "cell_type": "code",
   "execution_count": 29,
   "id": "058a150b",
   "metadata": {},
   "outputs": [
    {
     "data": {
      "text/plain": [
       "titulo                                  El Árbol de las Sombras\n",
       "historia      En lo profundo de un bosque tan antiguo que su...\n",
       "moraleja      Los verdaderos tesoros no se encuentran en los...\n",
       "conclusion                                                  NaN\n",
       "Name: 0, dtype: object"
      ]
     },
     "execution_count": 29,
     "metadata": {},
     "output_type": "execute_result"
    }
   ],
   "source": [
    "dfLLM_Texto = dfLLM_Texto.iloc[0]\n",
    "dfLLM_Texto"
   ]
  },
  {
   "cell_type": "code",
   "execution_count": 35,
   "id": "373b42ec",
   "metadata": {},
   "outputs": [
    {
     "data": {
      "text/plain": [
       "'El Árbol de las Sombras'"
      ]
     },
     "execution_count": 35,
     "metadata": {},
     "output_type": "execute_result"
    }
   ],
   "source": [
    "titulo = dfLLM_Texto[\"titulo\"]\n",
    "titulo"
   ]
  },
  {
   "cell_type": "code",
   "execution_count": 34,
   "id": "47a969f0",
   "metadata": {},
   "outputs": [
    {
     "name": "stdout",
     "output_type": "stream",
     "text": [
      "En lo profundo de un bosque tan antiguo que sus árboles parecían tocar el cielo, se alzaba un roble colosal. No era un árbol ordinario, pues sus hojas brillaban con una luz tenue y susurros mágicos emanaban de su tronco retorcido. Se decía que era el Árbol de los Deseos, capaz de conceder cualquier anhelo a quien lo tocara. \n",
      "\n",
      "Un niño llamado Elara, conocido por su curiosidad insaciable, escuchó las leyendas del árbol en las historias de su abuela. Desoyendo las advertencias de los aldeanos, se aventuró en el bosque encantado, guiado por la esperanza de un futuro mejor para su familia, sumida en la pobreza. \n",
      "\n",
      "Después de días de búsqueda, Elara finalmente encontró el roble mágico. Sus ramas se extendían como brazos protectores, y su luz era hipnótica. Justo cuando estaba a punto de tocar el tronco, una figura encorvada emergió de entre las sombras. Era un anciano, de rostro arrugado y ojos sabios. \n",
      "\n",
      "\"Detente, pequeño,\" dijo el anciano con voz grave. \"Este árbol concede deseos, sí, pero a un precio terrible. Cada deseo cumplido alimenta una sombra en tu alma, una oscuridad que te consumirá.\" \n",
      "\n",
      "Elara, asustado pero decidido, preguntó: \"¿Entonces, nadie ha obtenido un deseo sin consecuencias?\" \n",
      "\n",
      "El anciano suspiró. \"Muchos lo han intentado, pero solo han encontrado la desdicha. Un hombre codicioso deseó riqueza, y la obtuvo, pero a costa de la salud de sus seres queridos. Una mujer hermosa deseó la juventud eterna, pero se vio condenada a observar la muerte de todos a quienes amaba.\" \n",
      "\n",
      "Mientras hablaban, una risa resonó en el bosque. Un hombre corpulento, vestido con ropas ostentosas, se acercó con una sonrisa maliciosa. Era Lord Valerius, un noble cruel y astuto, conocido por su ambición desmedida. \n",
      "\n",
      "\"Tonterías de viejos,\" dijo Valerius, empujando al anciano a un lado. \"Yo sé cómo usar este árbol para mi beneficio.\" \n",
      "\n",
      "Valerius se acercó al roble y, con voz ávida, deseó poder absoluto sobre el reino. El árbol tembló, y una sombra oscura envolvió a Valerius. Al instante, se convirtió en el gobernante más poderoso, pero su corazón se llenó de una crueldad sin límites. Oprimió al pueblo, sembró el terror y se convirtió en un tirano despiadado. \n",
      "\n",
      "Elara, testigo de la transformación, comprendió la advertencia del anciano. El poder absoluto no era la felicidad, sino la perdición. Con el corazón apesadumbrado, regresó a su aldea y compartió la historia del Árbol de las Sombras. Aunque la pobreza persistió, Elara y su familia encontraron la felicidad en la bondad, la honestidad y el amor mutuo.\n"
     ]
    }
   ],
   "source": [
    "historia = dfLLM_Texto[\"historia\"]\n",
    "print(historia)"
   ]
  },
  {
   "cell_type": "markdown",
   "id": "bc817aed",
   "metadata": {},
   "source": [
    "# prompt para datos estructurados"
   ]
  },
  {
   "cell_type": "markdown",
   "id": "6dbecd63",
   "metadata": {},
   "source": [
    "## variables"
   ]
  },
  {
   "cell_type": "code",
   "execution_count": null,
   "id": "d03b5555",
   "metadata": {},
   "outputs": [
    {
     "ename": "SyntaxError",
     "evalue": "unterminated string literal (detected at line 4) (1893964636.py, line 4)",
     "output_type": "error",
     "traceback": [
      "  \u001b[36mCell\u001b[39m\u001b[36m \u001b[39m\u001b[32mIn[31]\u001b[39m\u001b[32m, line 4\u001b[39m\n\u001b[31m    \u001b[39m\u001b[31m\"historia\": \"El viento gélido azotaba el Cañón de los Lamentos, silbando entre las grietas de las rocas negras como el carbón. Sobre el único puente que cruzaba el abismo, un puente de piedra erosionada y vetas de obsidiana, se enfrentaban dos figuras. Abraham, el Maravilloso Caballero de la Legión de Guerreros de las Sombras, su armadura plateada reflejando la escasa luz, y el Gran Lord Voldemonda, líder de los Elfos Oscuros, su cuerpo envuelto en sombras y sus ojos rojos brillando con furia contenida.\u001b[39m\n                ^\n\u001b[31mSyntaxError\u001b[39m\u001b[31m:\u001b[39m unterminated string literal (detected at line 4)\n"
     ]
    }
   ],
   "source": [
    "a = \"\"\"```json\n",
    "{\n",
    "\"titulo\": \"El Último Puente de Vergamota\",\n",
    "\"historia\": \"El viento gélido azotaba el Cañón de los Lamentos, silbando entre las grietas de las rocas negras como el carbón. Sobre el único puente que cruzaba el abismo, un puente de piedra erosionada y vetas de obsidiana, se enfrentaban dos figuras. Abraham, el Maravilloso Caballero de la Legión de Guerreros de las Sombras, su armadura plateada reflejando la escasa luz, y el Gran Lord Voldemonda, líder de los Elfos Oscuros, su cuerpo envuelto en sombras y sus ojos rojos brillando con furia contenida.\n",
    "\n",
    "El destino del reino de Vergamota se decidía en ese preciso instante. Voldemonda, con un movimiento de su mano huesuda, conjuró una lanza de energía oscura que se estrelló contra el escudo de Abraham, creando una onda expansiva que hizo temblar el puente. Abraham respondió con una estocada precisa, su espada de energía cortando el aire con un zumbido mortal. Voldemonda esquivó el ataque con una agilidad inhumana y contraatacó con una ráfaga de proyectiles oscuros.\n",
    "\n",
    "La batalla se prolongó durante horas, cada choque de espadas, cada hechizo lanzado, desgarraba un poco más la ya frágil estructura del puente. Abraham, a pesar de su valentía, comenzaba a flaquear. La magia oscura de Voldemonda drenaba sus fuerzas, mientras que el líder de los elfos parecía inagotable.\n",
    "\n",
    "Finalmente, con una sonrisa cruel en su rostro, Voldemonda lanzó un hechizo devastador. Un rayo de energía negra impactó de lleno en el pecho de Abraham, lanzándolo hacia atrás. El caballero se aferró al borde del puente, sus dedos arañando la piedra mientras la oscuridad lo envolvía. Voldemonda se acercó, su voz un susurro gutural: “Vergamota es mía”. Con una patada brutal, envió a Abraham al abismo. El grito del caballero se perdió en el viento, mientras el puente, símbolo de la resistencia de Vergamota, se quebraba y se desmoronaba.\"\n",
    "}\n",
    "```\"\"\""
   ]
  },
  {
   "cell_type": "code",
   "execution_count": 26,
   "id": "ed7fe9fa",
   "metadata": {},
   "outputs": [
    {
     "data": {
      "text/plain": [
       "'{\"titulo\": \"El Último Puente de Vergamota\",\"historia\": \"El viento gélido azotaba el Cañón de los Lamentos, silbando entre las grietas de las rocas negras como el carbón. Sobre el único puente que cruzaba el abismo, un puente de piedra erosionada y vetas de obsidiana, se enfrentaban dos figuras. Abraham, el Maravilloso Caballero de la Legión de Guerreros de las Sombras, su armadura plateada reflejando la escasa luz, y el Gran Lord Voldemonda, líder de los Elfos Oscuros, su cuerpo envuelto en sombras y sus ojos rojos brillando con furia contenida.El destino del reino de Vergamota se decidía en ese preciso instante. Voldemonda, con un movimiento de su mano huesuda, conjuró una lanza de energía oscura que se estrelló contra el escudo de Abraham, creando una onda expansiva que hizo temblar el puente. Abraham respondió con una estocada precisa, su espada de energía cortando el aire con un zumbido mortal. Voldemonda esquivó el ataque con una agilidad inhumana y contraatacó con una ráfaga de proyectiles oscuros.La batalla se prolongó durante horas, cada choque de espadas, cada hechizo lanzado, desgarraba un poco más la ya frágil estructura del puente. Abraham, a pesar de su valentía, comenzaba a flaquear. La magia oscura de Voldemonda drenaba sus fuerzas, mientras que el líder de los elfos parecía inagotable.Finalmente, con una sonrisa cruel en su rostro, Voldemonda lanzó un hechizo devastador. Un rayo de energía negra impactó de lleno en el pecho de Abraham, lanzándolo hacia atrás. El caballero se aferró al borde del puente, sus dedos arañando la piedra mientras la oscuridad lo envolvía. Voldemonda se acercó, su voz un susurro gutural: “Vergamota es mía\". Con una patada brutal, envió a Abraham al abismo. El grito del caballero se perdió en el viento, mientras el puente, símbolo de la resistencia de Vergamota, se quebraba y se desmoronaba.\"}'"
      ]
     },
     "execution_count": 26,
     "metadata": {},
     "output_type": "execute_result"
    }
   ],
   "source": [
    "a = cleanTextLLM(str(a))\n",
    "a"
   ]
  },
  {
   "cell_type": "code",
   "execution_count": 24,
   "id": "d711f6c0",
   "metadata": {},
   "outputs": [],
   "source": [
    "import json"
   ]
  },
  {
   "cell_type": "code",
   "execution_count": 30,
   "id": "549b747a",
   "metadata": {},
   "outputs": [
    {
     "ename": "JSONDecodeError",
     "evalue": "Expecting ',' delimiter: line 1 column 1676 (char 1675)",
     "output_type": "error",
     "traceback": [
      "\u001b[31m---------------------------------------------------------------------------\u001b[39m",
      "\u001b[31mJSONDecodeError\u001b[39m                           Traceback (most recent call last)",
      "\u001b[36mCell\u001b[39m\u001b[36m \u001b[39m\u001b[32mIn[30]\u001b[39m\u001b[32m, line 1\u001b[39m\n\u001b[32m----> \u001b[39m\u001b[32m1\u001b[39m dfLLM_Texto = \u001b[43mjson\u001b[49m\u001b[43m.\u001b[49m\u001b[43mloads\u001b[49m\u001b[43m(\u001b[49m\u001b[43ma\u001b[49m\u001b[43m)\u001b[49m\n",
      "\u001b[36mFile \u001b[39m\u001b[32m~\\AppData\\Local\\Programs\\Python\\Python312\\Lib\\json\\__init__.py:346\u001b[39m, in \u001b[36mloads\u001b[39m\u001b[34m(s, cls, object_hook, parse_float, parse_int, parse_constant, object_pairs_hook, **kw)\u001b[39m\n\u001b[32m    341\u001b[39m     s = s.decode(detect_encoding(s), \u001b[33m'\u001b[39m\u001b[33msurrogatepass\u001b[39m\u001b[33m'\u001b[39m)\n\u001b[32m    343\u001b[39m \u001b[38;5;28;01mif\u001b[39;00m (\u001b[38;5;28mcls\u001b[39m \u001b[38;5;129;01mis\u001b[39;00m \u001b[38;5;28;01mNone\u001b[39;00m \u001b[38;5;129;01mand\u001b[39;00m object_hook \u001b[38;5;129;01mis\u001b[39;00m \u001b[38;5;28;01mNone\u001b[39;00m \u001b[38;5;129;01mand\u001b[39;00m\n\u001b[32m    344\u001b[39m         parse_int \u001b[38;5;129;01mis\u001b[39;00m \u001b[38;5;28;01mNone\u001b[39;00m \u001b[38;5;129;01mand\u001b[39;00m parse_float \u001b[38;5;129;01mis\u001b[39;00m \u001b[38;5;28;01mNone\u001b[39;00m \u001b[38;5;129;01mand\u001b[39;00m\n\u001b[32m    345\u001b[39m         parse_constant \u001b[38;5;129;01mis\u001b[39;00m \u001b[38;5;28;01mNone\u001b[39;00m \u001b[38;5;129;01mand\u001b[39;00m object_pairs_hook \u001b[38;5;129;01mis\u001b[39;00m \u001b[38;5;28;01mNone\u001b[39;00m \u001b[38;5;129;01mand\u001b[39;00m \u001b[38;5;129;01mnot\u001b[39;00m kw):\n\u001b[32m--> \u001b[39m\u001b[32m346\u001b[39m     \u001b[38;5;28;01mreturn\u001b[39;00m \u001b[43m_default_decoder\u001b[49m\u001b[43m.\u001b[49m\u001b[43mdecode\u001b[49m\u001b[43m(\u001b[49m\u001b[43ms\u001b[49m\u001b[43m)\u001b[49m\n\u001b[32m    347\u001b[39m \u001b[38;5;28;01mif\u001b[39;00m \u001b[38;5;28mcls\u001b[39m \u001b[38;5;129;01mis\u001b[39;00m \u001b[38;5;28;01mNone\u001b[39;00m:\n\u001b[32m    348\u001b[39m     \u001b[38;5;28mcls\u001b[39m = JSONDecoder\n",
      "\u001b[36mFile \u001b[39m\u001b[32m~\\AppData\\Local\\Programs\\Python\\Python312\\Lib\\json\\decoder.py:337\u001b[39m, in \u001b[36mJSONDecoder.decode\u001b[39m\u001b[34m(self, s, _w)\u001b[39m\n\u001b[32m    332\u001b[39m \u001b[38;5;28;01mdef\u001b[39;00m\u001b[38;5;250m \u001b[39m\u001b[34mdecode\u001b[39m(\u001b[38;5;28mself\u001b[39m, s, _w=WHITESPACE.match):\n\u001b[32m    333\u001b[39m \u001b[38;5;250m    \u001b[39m\u001b[33;03m\"\"\"Return the Python representation of ``s`` (a ``str`` instance\u001b[39;00m\n\u001b[32m    334\u001b[39m \u001b[33;03m    containing a JSON document).\u001b[39;00m\n\u001b[32m    335\u001b[39m \n\u001b[32m    336\u001b[39m \u001b[33;03m    \"\"\"\u001b[39;00m\n\u001b[32m--> \u001b[39m\u001b[32m337\u001b[39m     obj, end = \u001b[38;5;28;43mself\u001b[39;49m\u001b[43m.\u001b[49m\u001b[43mraw_decode\u001b[49m\u001b[43m(\u001b[49m\u001b[43ms\u001b[49m\u001b[43m,\u001b[49m\u001b[43m \u001b[49m\u001b[43midx\u001b[49m\u001b[43m=\u001b[49m\u001b[43m_w\u001b[49m\u001b[43m(\u001b[49m\u001b[43ms\u001b[49m\u001b[43m,\u001b[49m\u001b[43m \u001b[49m\u001b[32;43m0\u001b[39;49m\u001b[43m)\u001b[49m\u001b[43m.\u001b[49m\u001b[43mend\u001b[49m\u001b[43m(\u001b[49m\u001b[43m)\u001b[49m\u001b[43m)\u001b[49m\n\u001b[32m    338\u001b[39m     end = _w(s, end).end()\n\u001b[32m    339\u001b[39m     \u001b[38;5;28;01mif\u001b[39;00m end != \u001b[38;5;28mlen\u001b[39m(s):\n",
      "\u001b[36mFile \u001b[39m\u001b[32m~\\AppData\\Local\\Programs\\Python\\Python312\\Lib\\json\\decoder.py:353\u001b[39m, in \u001b[36mJSONDecoder.raw_decode\u001b[39m\u001b[34m(self, s, idx)\u001b[39m\n\u001b[32m    344\u001b[39m \u001b[38;5;250m\u001b[39m\u001b[33;03m\"\"\"Decode a JSON document from ``s`` (a ``str`` beginning with\u001b[39;00m\n\u001b[32m    345\u001b[39m \u001b[33;03ma JSON document) and return a 2-tuple of the Python\u001b[39;00m\n\u001b[32m    346\u001b[39m \u001b[33;03mrepresentation and the index in ``s`` where the document ended.\u001b[39;00m\n\u001b[32m   (...)\u001b[39m\u001b[32m    350\u001b[39m \n\u001b[32m    351\u001b[39m \u001b[33;03m\"\"\"\u001b[39;00m\n\u001b[32m    352\u001b[39m \u001b[38;5;28;01mtry\u001b[39;00m:\n\u001b[32m--> \u001b[39m\u001b[32m353\u001b[39m     obj, end = \u001b[38;5;28;43mself\u001b[39;49m\u001b[43m.\u001b[49m\u001b[43mscan_once\u001b[49m\u001b[43m(\u001b[49m\u001b[43ms\u001b[49m\u001b[43m,\u001b[49m\u001b[43m \u001b[49m\u001b[43midx\u001b[49m\u001b[43m)\u001b[49m\n\u001b[32m    354\u001b[39m \u001b[38;5;28;01mexcept\u001b[39;00m \u001b[38;5;167;01mStopIteration\u001b[39;00m \u001b[38;5;28;01mas\u001b[39;00m err:\n\u001b[32m    355\u001b[39m     \u001b[38;5;28;01mraise\u001b[39;00m JSONDecodeError(\u001b[33m\"\u001b[39m\u001b[33mExpecting value\u001b[39m\u001b[33m\"\u001b[39m, s, err.value) \u001b[38;5;28;01mfrom\u001b[39;00m\u001b[38;5;250m \u001b[39m\u001b[38;5;28;01mNone\u001b[39;00m\n",
      "\u001b[31mJSONDecodeError\u001b[39m: Expecting ',' delimiter: line 1 column 1676 (char 1675)"
     ]
    }
   ],
   "source": [
    "dfLLM_Texto = json.loads(a)"
   ]
  }
 ],
 "metadata": {
  "kernelspec": {
   "display_name": ".venv",
   "language": "python",
   "name": "python3"
  },
  "language_info": {
   "codemirror_mode": {
    "name": "ipython",
    "version": 3
   },
   "file_extension": ".py",
   "mimetype": "text/x-python",
   "name": "python",
   "nbconvert_exporter": "python",
   "pygments_lexer": "ipython3",
   "version": "3.12.3"
  }
 },
 "nbformat": 4,
 "nbformat_minor": 5
}
