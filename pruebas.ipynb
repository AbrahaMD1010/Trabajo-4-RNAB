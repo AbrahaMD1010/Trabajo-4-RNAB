{
 "cells": [
  {
   "cell_type": "code",
   "execution_count": null,
   "id": "59ed0535",
   "metadata": {},
   "outputs": [],
   "source": [
    "prompt = f\"\"\"\n",
    "Dado que eres un experto en literatura \n",
    "\"\"\""
   ]
  },
  {
   "cell_type": "code",
   "execution_count": 4,
   "id": "276ced2a",
   "metadata": {},
   "outputs": [
    {
     "data": {
      "text/plain": [
       "AIMessage(content=\"(Verse 1)\\nIn realms of data, vast and deep,\\nWhere knowledge sleeps and secrets keep,\\nA framework rose, a guiding light,\\nTo chain the words and make them bright.\\nLangChain it's called, a clever name,\\nTo forge connections in the flame\\nOf language models, grand and bold,\\nA story waiting to unfold.\\n\\n(Verse 2)\\nFrom simple prompts to complex flows,\\nIt guides the AI where it goes.\\nWith agents keen and memory strong,\\nIt rights the wrongs that linger long\\nIn data's depths, where shadows hide,\\nAnd truths are scattered far and wide.\\nIt gathers facts and weaves them true,\\nA tapestry of knowledge new.\\n\\n(Verse 3)\\nRetrieval Augmented Generation's art,\\nTo bring the relevant to the heart\\nOf every query, sharp and clean,\\nA vibrant, ever-growing scene.\\nNo longer lost in data's maze,\\nIt finds the answers in a haze,\\nAnd brings them forth with clarity,\\nFor all the world and you and me.\\n\\n(Verse 4)\\nWith chains that link and agents free,\\nIt tackles tasks for you and me.\\nFrom question answering, swift and bright,\\nTo code generation, day and night.\\nIt summarizes with graceful ease,\\nAnd extracts the knowledge, if you please.\\nA versatile and powerful tool,\\nTo bend the language to its rule.\\n\\n(Verse 5)\\nBut still, the journey's just begun,\\nNew challenges, yet to be won.\\nThe quest for accuracy and truth,\\nTo guide the AI from its youth.\\nSo let us learn and let us grow,\\nWith LangChain's help, our knowledge flow.\\nAnd build a future, bright and bold,\\nWhere stories of the data are told.\\n\\n(Outro)\\nSo raise a glass to LangChain's might,\\nA beacon shining in the night.\\nA tool to shape the words we use,\\nAnd break the chains of data's fuse.\\nLangChain, LangChain, forever strong,\\nMay your algorithms right the wrong.\\nAnd guide us onward, evermore,\\nTo knowledge that we can explore!\", additional_kwargs={}, response_metadata={'prompt_feedback': {'block_reason': 0, 'safety_ratings': []}, 'finish_reason': 'STOP', 'model_name': 'gemini-2.0-flash', 'safety_ratings': []}, id='run--44153e1b-3cab-42b7-b282-214125519710-0', usage_metadata={'input_tokens': 7, 'output_tokens': 468, 'total_tokens': 475, 'input_token_details': {'cache_read': 0}})"
      ]
     },
     "execution_count": 4,
     "metadata": {},
     "output_type": "execute_result"
    }
   ],
   "source": [
    "from langchain_google_genai import ChatGoogleGenerativeAI\n",
    "from dotenv import load_dotenv\n",
    "import os\n",
    "load_dotenv()\n",
    "\n",
    "llm = ChatGoogleGenerativeAI(model=\"gemini-2.0-flash\", api_key=os.getenv(\"LLM_KEY\"))\n",
    "llm.invoke(\"Sing a ballad of LangChain.\")"
   ]
  }
 ],
 "metadata": {
  "kernelspec": {
   "display_name": ".venv",
   "language": "python",
   "name": "python3"
  },
  "language_info": {
   "codemirror_mode": {
    "name": "ipython",
    "version": 3
   },
   "file_extension": ".py",
   "mimetype": "text/x-python",
   "name": "python",
   "nbconvert_exporter": "python",
   "pygments_lexer": "ipython3",
   "version": "3.12.3"
  }
 },
 "nbformat": 4,
 "nbformat_minor": 5
}
